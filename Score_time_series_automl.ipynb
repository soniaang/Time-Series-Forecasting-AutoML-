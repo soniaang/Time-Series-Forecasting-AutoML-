{
 "cells": [
  {
   "cell_type": "code",
   "execution_count": 1,
   "metadata": {},
   "outputs": [],
   "source": [
    "import pandas as pd\n",
    "data = {\n",
    "\n",
    "\"data\":[\n",
    "\n",
    "                 {\"Row Labels\": \"1/1/2020\",  \"Plan Invest\":2141783263, \"Pd Invest\": 7187398187, \"SAP Payments (Dr)\": 0, \"SAP Accruals (Cr)\": 23232323},\n",
    "\n",
    "                 #//Other rows of table\n",
    "\n",
    "             ]\n",
    "\n",
    "}\n",
    "\n",
    "#This serialized table should not include target column. Is it \"SAP Payments (Dr)\"?\n",
    "\n",
    " \n",
    "\n"
   ]
  },
  {
   "cell_type": "code",
   "execution_count": 5,
   "metadata": {},
   "outputs": [
    {
     "data": {
      "text/html": [
       "<div>\n",
       "<style scoped>\n",
       "    .dataframe tbody tr th:only-of-type {\n",
       "        vertical-align: middle;\n",
       "    }\n",
       "\n",
       "    .dataframe tbody tr th {\n",
       "        vertical-align: top;\n",
       "    }\n",
       "\n",
       "    .dataframe thead th {\n",
       "        text-align: right;\n",
       "    }\n",
       "</style>\n",
       "<table border=\"1\" class=\"dataframe\">\n",
       "  <thead>\n",
       "    <tr style=\"text-align: right;\">\n",
       "      <th></th>\n",
       "      <th>Row Labels</th>\n",
       "      <th>Plan Invest</th>\n",
       "      <th>Pd Invest</th>\n",
       "      <th>SAP Accruals (Cr)</th>\n",
       "    </tr>\n",
       "  </thead>\n",
       "  <tbody>\n",
       "    <tr>\n",
       "      <th>0</th>\n",
       "      <td>3/1/20</td>\n",
       "      <td>267266020</td>\n",
       "      <td>172952361</td>\n",
       "      <td>-206936356</td>\n",
       "    </tr>\n",
       "    <tr>\n",
       "      <th>1</th>\n",
       "      <td>4/1/20</td>\n",
       "      <td>195255520</td>\n",
       "      <td>103860986</td>\n",
       "      <td>-203834251</td>\n",
       "    </tr>\n",
       "  </tbody>\n",
       "</table>\n",
       "</div>"
      ],
      "text/plain": [
       "  Row Labels  Plan Invest  Pd Invest  SAP Accruals (Cr)\n",
       "0     3/1/20    267266020  172952361         -206936356\n",
       "1     4/1/20    195255520  103860986         -203834251"
      ]
     },
     "execution_count": 5,
     "metadata": {},
     "output_type": "execute_result"
    }
   ],
   "source": [
    "#Generally we recommend using script for testing:\n",
    "target_column_name = \"SAP Payments (Dr)\"  # Is it a column we are trying to predict?\n",
    "\n",
    "X_test = pd.read_csv('./paid_vs_plan_analysis.csv')\n",
    "\n",
    "y_test = X_test.pop(target_column_name).values\n",
    "\n",
    " \n",
    "time_column_name = 'Row Labels'\n",
    "X_test"
   ]
  },
  {
   "cell_type": "code",
   "execution_count": 9,
   "metadata": {},
   "outputs": [
    {
     "name": "stdout",
     "output_type": "stream",
     "text": [
      "{\"data\": [{\"Row Labels\": \"3/1/20\", \"Plan Invest\": 267266020, \"Pd Invest\": 172952361, \"SAP Accruals (Cr)\": -206936356}, {\"Row Labels\": \"4/1/20\", \"Plan Invest\": 195255520, \"Pd Invest\": 103860986, \"SAP Accruals (Cr)\": -203834251}]}\n",
      "{\"forecast\": [173614521.42621133, 129139915.80414319], \"index\": [{\"Row Labels\": 1583020800000, \"_automl_dummy_grain_col\": \"_automl_dummy_grain_col\"}, {\"Row Labels\": 1585699200000, \"_automl_dummy_grain_col\": \"_automl_dummy_grain_col\"}]}\n"
     ]
    }
   ],
   "source": [
    "import json\n",
    "import requests\n",
    "\n",
    "X_query = X_test.copy()\n",
    "\n",
    "# We have to convert datetime to string, because Timestamps cannot be serialized to JSON.\n",
    "\n",
    "X_query[time_column_name] = X_query[time_column_name].astype(str)\n",
    "\n",
    "# The Service object accept the complex dictionary, which is internally converted to JSON string.\n",
    "\n",
    "# The section 'data' contains the data frame in the form of dictionary.\n",
    "\n",
    "test_sample = json.dumps({'data': X_query.to_dict(orient='records')})\n",
    "\n",
    "print(test_sample)\n",
    "scoring_uri = 'http://ec7350d5-9257-4882-a98d-9602dfb5cff1.westus.azurecontainer.io/score'\n",
    "\n",
    "\n",
    "headers = {'Content-Type': 'application/json'}\n",
    "response = requests.post(scoring_uri, test_sample, headers=headers)\n",
    "\n",
    "# translate from networkese to datascientese\n",
    "print(response.json())\n",
    "res_dict = json.loads(response.json())\n",
    "\n",
    "try:\n",
    "\n",
    "    \n",
    "    y_fcst_all = pd.DataFrame(res_dict['index'])\n",
    "\n",
    "    y_fcst_all[time_column_name] = pd.to_datetime(y_fcst_all[time_column_name], unit = 'ms')\n",
    "\n",
    "    y_fcst_all['forecast'] = res_dict['forecast']   \n",
    "\n",
    "except:\n",
    "\n",
    "    print(res_dict)\n",
    "    \n",
    "    print(y_fcst_all)\n",
    "\n",
    " \n",
    "\n",
    " "
   ]
  },
  {
   "cell_type": "code",
   "execution_count": null,
   "metadata": {},
   "outputs": [],
   "source": []
  }
 ],
 "metadata": {
  "kernelspec": {
   "display_name": "Python 3",
   "language": "python",
   "name": "python3"
  },
  "language_info": {
   "codemirror_mode": {
    "name": "ipython",
    "version": 3
   },
   "file_extension": ".py",
   "mimetype": "text/x-python",
   "name": "python",
   "nbconvert_exporter": "python",
   "pygments_lexer": "ipython3",
   "version": "3.6.9"
  }
 },
 "nbformat": 4,
 "nbformat_minor": 2
}
